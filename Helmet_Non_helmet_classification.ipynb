{
 "cells": [
  {
   "cell_type": "markdown",
   "metadata": {},
   "source": [
    "# * 배달기사 일일 안전모 인증사진 정산 프로그램"
   ]
  },
  {
   "cell_type": "markdown",
   "metadata": {},
   "source": [
    "#### 윈도우 폴더 분류를 해야하기 때문에 윈도우 환경인 쥬피터에서 실행합니다."
   ]
  },
  {
   "cell_type": "markdown",
   "metadata": {},
   "source": [
    "#### 예시 사진은 배달원 안전모 인증 사진으로 가정합니다."
   ]
  },
  {
   "cell_type": "code",
   "execution_count": 1,
   "metadata": {},
   "outputs": [],
   "source": [
    "from time import sleep\n",
    "import cv2 as cv\n",
    "import argparse\n",
    "import sys\n",
    "import numpy as np\n",
    "import os.path\n",
    "from glob import glob\n",
    "import pandas as pd\n",
    "#from PIL import image"
   ]
  },
  {
   "cell_type": "code",
   "execution_count": 2,
   "metadata": {},
   "outputs": [],
   "source": [
    "frame_count = 0             # used in mainloop  where we're extracting images., and then to drawPred( called by post process)\n",
    "frame_count_out=0           # used in post process loop, to get the no of specified class value.\n",
    "# Initialize the parameters\n",
    "confThreshold = 0.5  #Confidence threshold\n",
    "nmsThreshold = 0.4   #Non-maximum suppression threshold\n",
    "inpWidth = 416       #Width of network's input image\n",
    "inpHeight = 416      #Height of network's input image\n",
    "\n"
   ]
  },
  {
   "cell_type": "code",
   "execution_count": 3,
   "metadata": {},
   "outputs": [],
   "source": [
    "# https://drive.google.com/file/d/1gh6knzmRZz-EH5qKPAtCDQDr4qamOhsL/view?usp=sharing\n",
    "# weights 파일을 같은 폴더에 다운 받아 주세요"
   ]
  },
  {
   "cell_type": "code",
   "execution_count": 4,
   "metadata": {},
   "outputs": [],
   "source": [
    "\n",
    "# Load names of classes\n",
    "classesFile = \"obj.names\";\n",
    "classes = None\n",
    "with open(classesFile, 'rt') as f:\n",
    "    classes = f.read().rstrip('\\n').split('\\n')\n",
    "\n",
    "    "
   ]
  },
  {
   "cell_type": "code",
   "execution_count": 5,
   "metadata": {},
   "outputs": [],
   "source": [
    "\n",
    "# Give the configuration and weight files for the model and load the network using them.\n",
    "modelConfiguration = \"yolov3-obj.cfg\";\n",
    "modelWeights = \"yolov3-obj_2400.weights\";\n"
   ]
  },
  {
   "cell_type": "code",
   "execution_count": 6,
   "metadata": {},
   "outputs": [],
   "source": [
    "net = cv.dnn.readNetFromDarknet(modelConfiguration, modelWeights)\n",
    "net.setPreferableBackend(cv.dnn.DNN_BACKEND_OPENCV)\n",
    "net.setPreferableTarget(cv.dnn.DNN_TARGET_CPU)"
   ]
  },
  {
   "cell_type": "code",
   "execution_count": 7,
   "metadata": {},
   "outputs": [],
   "source": [
    "\n",
    "# Get the names of the output layers\n",
    "def getOutputsNames(net):\n",
    "    # Get the names of all the layers in the network\n",
    "    layersNames = net.getLayerNames()\n",
    "    # Get the names of the output layers, i.e. the layers with unconnected outputs\n",
    "    return [layersNames[i[0] - 1] for i in net.getUnconnectedOutLayers()]\n"
   ]
  },
  {
   "cell_type": "code",
   "execution_count": 8,
   "metadata": {},
   "outputs": [],
   "source": [
    "\n",
    "\n",
    "# Draw the predicted bounding box\n",
    "def drawPred(classId, conf, left, top, right, bottom):\n",
    "\n",
    "    global frame_count\n",
    "# Draw a bounding box.\n",
    "    cv.rectangle(frame, (left, top), (right, bottom), (255, 178, 50), 3)\n",
    "    label = '%.2f' % conf\n",
    "    # Get the label for the class name and its confidence\n",
    "    if classes:\n",
    "        assert(classId < len(classes))\n",
    "        label = '%s:%s' % (classes[classId], label)\n",
    "\n",
    "    #Display the label at the top of the bounding box\n",
    "    labelSize, baseLine = cv.getTextSize(label, cv.FONT_HERSHEY_SIMPLEX, 0.5, 1)\n",
    "    top = max(top, labelSize[1])\n",
    "    #print(label)            #testing\n",
    "    #print(labelSize)        #testing\n",
    "    #print(baseLine)         #testing\n",
    "\n",
    "    label_name,label_conf = label.split(':')    #spliting into class & confidance. will compare it with person.\n",
    "    if label_name == 'Helmet':\n",
    "                                            #will try to print of label have people.. or can put a counter to find the no of people occurance.\n",
    "                                        #will try if it satisfy the condition otherwise, we won't print the boxes or leave it.\n",
    "        cv.rectangle(frame, (left, top - round(1.5*labelSize[1])), (left + round(1.5*labelSize[0]), top + baseLine), (255, 255, 255), cv.FILLED)\n",
    "        cv.putText(frame, label, (left, top), cv.FONT_HERSHEY_SIMPLEX, 0.75, (0,0,0), 1)\n",
    "        frame_count+=1\n",
    "\n",
    "\n",
    "    #print(frame_count)\n",
    "    if(frame_count> 0):\n",
    "        return frame_count\n",
    "\n",
    "\n",
    "\n"
   ]
  },
  {
   "cell_type": "code",
   "execution_count": 9,
   "metadata": {},
   "outputs": [],
   "source": [
    "\n",
    "# Remove the bounding boxes with low confidence using non-maxima suppression\n",
    "def postprocess(frame, outs,cnt):\n",
    "    \n",
    "    frameHeight = frame.shape[0]\n",
    "    frameWidth = frame.shape[1]\n",
    "    global frame_count_out\n",
    "    frame_count_out=0\n",
    "    classIds = []\n",
    "    confidences = []\n",
    "    boxes = []\n",
    "    # Scan through all the bounding boxes output from the network and keep only the\n",
    "    # ones with high confidence scores. Assign the box's class label as the class with the highest score.\n",
    "    classIds = []               #have to fins which class have hieghest confidence........=====>>><<<<=======\n",
    "    confidences = []\n",
    "    boxes = []\n",
    "    for out in outs:\n",
    "        for detection in out:\n",
    "            scores = detection[5:]\n",
    "            classId = np.argmax(scores)\n",
    "            confidence = scores[classId]\n",
    "            if confidence > confThreshold:\n",
    "                center_x = int(detection[0] * frameWidth)\n",
    "                center_y = int(detection[1] * frameHeight)\n",
    "                width = int(detection[2] * frameWidth)\n",
    "                height = int(detection[3] * frameHeight)\n",
    "                left = int(center_x - width / 2)\n",
    "                top = int(center_y - height / 2)\n",
    "                classIds.append(classId)\n",
    "                #print(classIds)\n",
    "                confidences.append(float(confidence))\n",
    "                boxes.append([left, top, width, height])\n",
    "\n",
    "    # Perform non maximum suppression to eliminate redundant overlapping boxes with\n",
    "    # lower confidences.\n",
    "    indices = cv.dnn.NMSBoxes(boxes, confidences, confThreshold, nmsThreshold)\n",
    "    count_person=0 # for counting the classes in this loop.\n",
    "    for i in indices:\n",
    "        i = i[0]\n",
    "        box = boxes[i]\n",
    "        left = box[0]\n",
    "        top = box[1]\n",
    "        width = box[2]\n",
    "        height = box[3]\n",
    "               #this function in  loop is calling drawPred so, try pushing one test counter in parameter , so it can calculate it.\n",
    "        frame_count_out = drawPred(classIds[i], confidences[i], left, top, left + width, top + height)\n",
    "         #increase test counter till the loop end then print...\n",
    "\n",
    "        #checking class, if it is a person or not\n",
    "\n",
    "        my_class='Helmet'                   #======================================== mycode .....\n",
    "        unknown_class = classes[classId]\n",
    "\n",
    "        if my_class == unknown_class:\n",
    "            count_person += 1\n",
    "    #if(frame_count_out > 0):\n",
    "#     print(frame_count_out)\n",
    "\n",
    "\n",
    "    if count_person >= 1:\n",
    "        path = 'use/'\n",
    "        frame_name=os.path.basename(fn)             # trimm the path and give file name.\n",
    "        cv.imwrite(str(path)+frame_name, frame)     # writing to folder.\n",
    "        #print(type(frame))\n",
    "        cnt['안전모 착용 횟수'][0]= cnt['안전모 착용 횟수'][0]+1\n",
    "        cv.imshow('img',frame)\n",
    "        cv.waitKey(800)\n",
    "    else: \n",
    "        path = 'non/'\n",
    "        frame_name=os.path.basename(fn)    \n",
    "        cv.imwrite(str(path)+frame_name, frame)     # writing to folder.\n",
    "        #print(type(frame))\n",
    "        cnt['안전모 미착용 횟수'][0]=cnt['안전모 미착용 횟수'][0]+1\n",
    "        cv.imshow('img',frame)\n",
    "        cv.waitKey(800)\n",
    "        \n",
    "#     return(cnt)\n",
    "\n",
    "\n",
    "    #cv.imwrite(frame_name, frame)\n",
    "                                               #======================================mycode........."
   ]
  },
  {
   "cell_type": "code",
   "execution_count": 17,
   "metadata": {},
   "outputs": [],
   "source": [
    "# 분류하여 저장될 폴더 2개를 명령어로 열어줍니다.\n",
    "\n",
    "!start non #안전모 미착용\n",
    "!start use # 안전모 착용\n"
   ]
  },
  {
   "cell_type": "code",
   "execution_count": 11,
   "metadata": {},
   "outputs": [
    {
     "name": "stdout",
     "output_type": "stream",
     "text": [
      "안전모 착용 횟수 : 0 , 안전모 미착용 횟수 : 1\n",
      "안전모 착용 횟수 : 1 , 안전모 미착용 횟수 : 1\n",
      "안전모 착용 횟수 : 2 , 안전모 미착용 횟수 : 1\n",
      "안전모 착용 횟수 : 3 , 안전모 미착용 횟수 : 1\n",
      "안전모 착용 횟수 : 4 , 안전모 미착용 횟수 : 1\n",
      "안전모 착용 횟수 : 5 , 안전모 미착용 횟수 : 1\n",
      "안전모 착용 횟수 : 6 , 안전모 미착용 횟수 : 1\n"
     ]
    },
    {
     "data": {
      "text/html": [
       "<div>\n",
       "<style scoped>\n",
       "    .dataframe tbody tr th:only-of-type {\n",
       "        vertical-align: middle;\n",
       "    }\n",
       "\n",
       "    .dataframe tbody tr th {\n",
       "        vertical-align: top;\n",
       "    }\n",
       "\n",
       "    .dataframe thead th {\n",
       "        text-align: right;\n",
       "    }\n",
       "</style>\n",
       "<table border=\"1\" class=\"dataframe\">\n",
       "  <thead>\n",
       "    <tr style=\"text-align: right;\">\n",
       "      <th></th>\n",
       "      <th>안전모 착용 횟수</th>\n",
       "      <th>안전모 미착용 횟수</th>\n",
       "    </tr>\n",
       "  </thead>\n",
       "  <tbody>\n",
       "    <tr>\n",
       "      <th>0</th>\n",
       "      <td>6</td>\n",
       "      <td>1</td>\n",
       "    </tr>\n",
       "  </tbody>\n",
       "</table>\n",
       "</div>"
      ],
      "text/plain": [
       "   안전모 착용 횟수  안전모 미착용 횟수\n",
       "0          6           1"
      ]
     },
     "execution_count": 11,
     "metadata": {},
     "output_type": "execute_result"
    }
   ],
   "source": [
    "\n",
    "# Process inputs\n",
    "\n",
    "cnt = {'안전모 착용 횟수':[0],'안전모 미착용 횟수':[0]}\n",
    "\n",
    "\n",
    "winName = 'Deep learning object detection in OpenCV'\n",
    "cv.namedWindow(winName, cv.WINDOW_NORMAL)\n",
    "\n",
    "for fn in glob('images/*.jpg'):\n",
    "\n",
    "    frame = cv.imread(fn)\n",
    "    frame_count =0\n",
    "\n",
    "    # Create a 4D blob from a frame.\n",
    "    blob = cv.dnn.blobFromImage(frame, 1/255, (inpWidth, inpHeight), [0,0,0], 1, crop=False)\n",
    "\n",
    "    # Sets the input to the network\n",
    "    net.setInput(blob)\n",
    "\n",
    "    # Runs the forward pass to get output of the output layers\n",
    "    outs = net.forward(getOutputsNames(net))\n",
    "\n",
    "    # Remove the bounding boxes with low confidence\n",
    "    postprocess(frame, outs, cnt)\n",
    "\n",
    "    # Put efficiency information. The function getPerfProfile returns the overall time for inference(t) and the timings for each of the layers(in layersTimes)\n",
    "    t, _ = net.getPerfProfile()\n",
    "    #print(t)\n",
    "    label = 'Inference time: %.2f ms' % (t * 1000.0 / cv.getTickFrequency())\n",
    "    #print(label)\n",
    "    cv.putText(frame, label, (0, 15), cv.FONT_HERSHEY_SIMPLEX, 0.5, (0, 0, 255))\n",
    "    #print(label)\n",
    "    key = list(cnt.keys())\n",
    "    val = list(cnt.values())\n",
    "    print(key[0],':',val[0][0],',',key[1],':',val[1][0])\n",
    "cv.destroyAllWindows()\n",
    "        \n",
    "    \n",
    "cnt_df = pd.DataFrame(cnt)\n",
    "\n",
    "\n",
    "cnt_df\n",
    "# 0번째 배달 기사 주간 안전모 착용 정산 \n",
    "# 안전모 착용 횟수 6회, 미착용 횟수 1회\n",
    "\n",
    "    \n"
   ]
  },
  {
   "cell_type": "markdown",
   "metadata": {},
   "source": [
    "# 마지막 입니다."
   ]
  },
  {
   "cell_type": "markdown",
   "metadata": {},
   "source": [
    "#### 참고 git : 5. 헬멧 이미지 분류 - https://github.com/BlcaKHat/yolov3-Helmet-Detection"
   ]
  },
  {
   "cell_type": "code",
   "execution_count": null,
   "metadata": {},
   "outputs": [],
   "source": []
  }
 ],
 "metadata": {
  "kernelspec": {
   "display_name": "Python 3",
   "language": "python",
   "name": "python3"
  },
  "language_info": {
   "codemirror_mode": {
    "name": "ipython",
    "version": 3
   },
   "file_extension": ".py",
   "mimetype": "text/x-python",
   "name": "python",
   "nbconvert_exporter": "python",
   "pygments_lexer": "ipython3",
   "version": "3.7.7"
  }
 },
 "nbformat": 4,
 "nbformat_minor": 4
}
